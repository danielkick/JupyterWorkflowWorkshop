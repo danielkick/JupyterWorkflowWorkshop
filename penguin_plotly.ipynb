{
 "cells": [
  {
   "cell_type": "code",
   "execution_count": 2,
   "id": "778f9586",
   "metadata": {
    "lines_to_next_cell": 0
   },
   "outputs": [],
   "source": [
    "import os\n",
    "\n",
    "# Data Wrangling\n",
    "import numpy as np\n",
    "import pandas as pd\n",
    "\n",
    "# Data Modeling\n",
    "# import statsmodels.api as sm          \n",
    "# import statsmodels.formula.api as smf # tilde formulas (y ~ x1 + x2)\n",
    "\n",
    "# Graphing\n",
    "import plotly.express as px         # Main interface\n",
    "import plotly.figure_factory as ff  # Specialized plots (dendrograms, density plots)\n",
    "import plotly.graph_objects as go   # Lower level interface"
   ]
  },
  {
   "cell_type": "code",
   "execution_count": null,
   "id": "8e1e69a6",
   "metadata": {
    "lines_to_next_cell": 2
   },
   "outputs": [],
   "source": [
    "# Data\n",
    "pd.read_csv(\"./\")"
   ]
  },
  {
   "cell_type": "code",
   "execution_count": null,
   "id": "d4468565",
   "metadata": {},
   "outputs": [],
   "source": [
    "penguins = load_penguins()\n",
    "penguins"
   ]
  },
  {
   "cell_type": "markdown",
   "id": "e29f6a73",
   "metadata": {},
   "source": [
    "# Standard Plots"
   ]
  },
  {
   "cell_type": "code",
   "execution_count": null,
   "id": "dbc8cdfe",
   "metadata": {},
   "outputs": [],
   "source": [
    "# Scatterplot\n",
    "px.scatter(penguins, x = 'bill_length_mm', y = 'bill_depth_mm', color = 'species', trendline=\"ols\")"
   ]
  },
  {
   "cell_type": "code",
   "execution_count": null,
   "id": "c498b61a",
   "metadata": {
    "lines_to_next_cell": 0
   },
   "outputs": [],
   "source": [
    "# Distribution Plot\n",
    "penguin_sp = ['Adelie', 'Gentoo', 'Chinstrap']\n",
    "hist_data = [penguins.loc[((penguins['species'] == sp) & (penguins['flipper_length_mm'].notna()) ), 'flipper_length_mm'] for sp in penguin_sp]\n",
    "\n",
    "group_labels = penguin_sp\n",
    "\n",
    "fig = ff.create_distplot(hist_data, group_labels, bin_size=.2)\n",
    "fig.show()"
   ]
  },
  {
   "cell_type": "code",
   "execution_count": null,
   "id": "50bd5df9",
   "metadata": {},
   "outputs": [],
   "source": [
    "# Scatterplot 2\n",
    "fig = px.scatter_3d(penguins, x = 'bill_length_mm', y = 'bill_depth_mm', z = 'flipper_length_mm', color = 'species')\n",
    "fig "
   ]
  },
  {
   "cell_type": "markdown",
   "id": "6e33fd26",
   "metadata": {},
   "source": [
    "# Customizing a Plot"
   ]
  },
  {
   "cell_type": "code",
   "execution_count": null,
   "id": "cc363941",
   "metadata": {
    "lines_to_next_cell": 2
   },
   "outputs": [],
   "source": [
    "# Recreate Scatterplot 2\n",
    "\n",
    "color_mapping = {\n",
    "    'Adelie':'#636EFA', \n",
    "    'Gentoo':'#EF553B', \n",
    "    'Chinstrap':'#00CC96'}\n",
    "\n",
    "color_list = [color_mapping[i] for i in penguins['species']]\n",
    "\n",
    "\n",
    "fig = go.Figure(data=[go.Scatter3d(\n",
    "    x = penguins['bill_length_mm'], \n",
    "    y = penguins['bill_depth_mm'], \n",
    "    z = penguins['flipper_length_mm'],\n",
    "    \n",
    "    mode='markers',\n",
    "    marker=dict(\n",
    "        color= color_list, \n",
    "        opacity=0.6 # <- new!\n",
    "    )\n",
    ")])\n",
    "\n",
    "# tight layout\n",
    "# fig.update_layout(margin=dict(l=0, r=0, b=0, t=0))\n",
    "fig.update_layout(scene = dict(\n",
    "                    xaxis_title='bill_length_mm',\n",
    "                    yaxis_title='bill_depth_mm',\n",
    "                    zaxis_title='flipper_length_mm'))\n",
    "fig.show()\n",
    "\n"
   ]
  },
  {
   "cell_type": "code",
   "execution_count": null,
   "id": "a98945a1",
   "metadata": {},
   "outputs": [],
   "source": [
    "# Model fitting:\n",
    "penguins_nona = penguins[['species', 'bill_length_mm', 'bill_depth_mm', 'flipper_length_mm']].dropna()\n",
    "fm = smf.ols(formula='flipper_length_mm ~ species + bill_length_mm + bill_depth_mm', data=penguins_nona)\n",
    "\n",
    "res = fm.fit()\n",
    "\n",
    "print(res.summary())"
   ]
  },
  {
   "cell_type": "code",
   "execution_count": null,
   "id": "1307cb0e",
   "metadata": {},
   "outputs": [],
   "source": [
    "# Model parameter\n",
    "res.params"
   ]
  },
  {
   "cell_type": "code",
   "execution_count": null,
   "id": "31158f5e",
   "metadata": {},
   "outputs": [],
   "source": [
    "# Transparant predictions \n",
    "# Note: relying on a global variable like this is bad practice.\n",
    "def predict_flipper_len(species, bill_length_mm, bill_depth_mm):\n",
    "    yHat = res.params['Intercept']\n",
    "\n",
    "    if species == 'Chinstrap':\n",
    "        yHat += res.params['species[T.Chinstrap]']\n",
    "    elif species == 'Gentoo':\n",
    "        yHat += res.params['species[T.Gentoo]']\n",
    "\n",
    "    yHat += res.params['bill_length_mm'] * bill_length_mm\n",
    "    yHat += res.params['bill_depth_mm'] * bill_depth_mm\n",
    "\n",
    "    return(yHat)\n",
    "\n",
    "\n",
    "def mk_plane(species = 'Adelie'):\n",
    "\n",
    "    # get corners of the plane to define\n",
    "    min_length = penguins_nona.loc[penguins_nona['species'] == species, 'bill_length_mm'].min()\n",
    "    max_length = penguins_nona.loc[penguins_nona['species'] == species, 'bill_length_mm'].max()\n",
    "\n",
    "    min_depth  = penguins_nona.loc[penguins_nona['species'] == species, 'bill_depth_mm'].min()\n",
    "    max_depth  = penguins_nona.loc[penguins_nona['species'] == species, 'bill_depth_mm'].max()\n",
    "\n",
    "\n",
    "    temp = pd.DataFrame({'bill_length_mm' : [min_length, min_length, max_length, max_length],\n",
    "                         'bill_depth_mm'  : [min_depth, max_depth, min_depth, max_depth]})\n",
    "\n",
    "    temp['species'] = species\n",
    "    temp['flipper_length_mm'] = np.nan\n",
    "\n",
    "    # calculate the z for each\n",
    "    for i in temp.index:\n",
    "        temp.loc[i, 'flipper_length_mm'] = predict_flipper_len(species = temp.loc[i, 'species'], \n",
    "                                                               bill_length_mm = temp.loc[i, 'bill_length_mm'], \n",
    "                                                               bill_depth_mm = temp.loc[i, 'bill_depth_mm'])\n",
    "    return(temp)"
   ]
  },
  {
   "cell_type": "code",
   "execution_count": null,
   "id": "33341859",
   "metadata": {
    "lines_to_next_cell": 0
   },
   "outputs": [],
   "source": [
    "for sp in ['Adelie', 'Gentoo', 'Chinstrap']:\n",
    "\n",
    "    prediction_plane = mk_plane(species = sp)\n",
    "\n",
    "    color_list = [color_mapping[i] for i in prediction_plane['species']]\n",
    "\n",
    "    fig = fig.add_trace(go.Mesh3d(x = prediction_plane['bill_length_mm'], \n",
    "                            y = prediction_plane['bill_depth_mm'], \n",
    "                            z = prediction_plane['flipper_length_mm'],\n",
    "                           color = color_list[0],\n",
    "                                 opacity = 0.28))\n",
    "\n",
    "fig"
   ]
  },
  {
   "cell_type": "code",
   "execution_count": null,
   "id": "af1ea9b3",
   "metadata": {
    "lines_to_next_cell": 2
   },
   "outputs": [],
   "source": []
  }
 ],
 "metadata": {
  "jupytext": {
   "formats": "ipynb,py:light"
  },
  "kernelspec": {
   "display_name": "Python 3 (ipykernel)",
   "language": "python",
   "name": "python3"
  },
  "language_info": {
   "codemirror_mode": {
    "name": "ipython",
    "version": 3
   },
   "file_extension": ".py",
   "mimetype": "text/x-python",
   "name": "python",
   "nbconvert_exporter": "python",
   "pygments_lexer": "ipython3",
   "version": "3.8.10"
  },
  "toc": {
   "base_numbering": 1,
   "nav_menu": {},
   "number_sections": true,
   "sideBar": true,
   "skip_h1_title": false,
   "title_cell": "Table of Contents",
   "title_sidebar": "Contents",
   "toc_cell": false,
   "toc_position": {},
   "toc_section_display": true,
   "toc_window_display": false
  }
 },
 "nbformat": 4,
 "nbformat_minor": 5
}
